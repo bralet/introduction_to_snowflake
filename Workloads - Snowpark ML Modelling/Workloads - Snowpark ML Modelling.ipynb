{
 "metadata": {
  "kernelspec": {
   "display_name": "Streamlit Notebook",
   "name": "streamlit"
  },
  "lastEditStatus": {
   "notebookId": "brr5ahdp7lkw7uhd3yca",
   "authorId": "8065527255216",
   "authorName": "BRALE",
   "authorEmail": "braianquiceno555@gmail.com",
   "sessionId": "f2b5f8bc-e1f5-4d5c-98f1-2515f91e11c0",
   "lastEditTime": 1758154591539
  }
 },
 "nbformat_minor": 5,
 "nbformat": 4,
 "cells": [
  {
   "cell_type": "code",
   "id": "d6c744e6-392b-49cb-95ce-9f45dee6d632",
   "metadata": {
    "language": "python",
    "name": "cell4"
   },
   "outputs": [],
   "source": "# don’t worry too much about this – I created credential.py to hold my login credentials\n# from credential import params\n\n# if you want guidance on connecting to Snowflake from your IDE, see here:\n# https://docs.snowflake.com/en/developer-guide/snowpark/python/creating-session#creating-a-session\n\n# import the libraries you’ll need\n\nfrom snowflake.snowpark import Session\nfrom snowflake.ml.modeling.xgboost import XGBClassifier\nfrom snowflake.snowpark.functions import col\nfrom snowflake.ml.modeling import preprocessing",
   "execution_count": null
  },
  {
   "cell_type": "code",
   "id": "3e94acbc-b41f-476b-b32f-6e1282f35004",
   "metadata": {
    "language": "python",
    "name": "cell5"
   },
   "outputs": [],
   "source": "# Here’s the neighborhood visiting pattern the truck follows:\n# In January, the truck goes to N1 on the 1st, 8th, 15th, 22nd, and 29th, and N2 the other days.\n\n# From February through November, it goes to:\n# N1 on the 1st\n# N2 on the 2nd\n# N3 on the 3rd\n# N4 on the 4th\n# N5 on the 5th\n# N6 on the 6th\n# N7 on the 7th\n# N1 on the 8th\n# N2 on the 9th\n# etc.\n\n# Every December, it only goes to N8.\n\nmonth_days = [31, 28, 31, 30, 31, 30, 31, 31, 30, 31, 30, 31]\n\npre = {}\n\nfor i,month_length in enumerate(month_days):\n    month = i + 1\n\n    for day in range(1,month_length+1):\n        \n        # In January, it goes to neighborhood 1 on Mondays, and neighborhood 2 the other days.\n        if ((month) == 1):\n            if (day) % 7 == 1:\n                pre[(month,day)] = 1\n            else:\n                pre[(month,day)] = 2\n                \n        # From February through November, it goes to neighborhood 1 on the 1st, 2 on the 2nd, 3 on the 3rd,\n        # 4 on the 4th, 5 on the 5th, 6 on the 6th, and 7 on the 7th, 1 on the 8th, 2 on the 9th, etc.\n        elif ((month) <= 11):\n            pre[(month,day)] = ((day-1) % 7) + 1\n\n        # Every December, it only goes to neighborhood 8.\n        elif ((month) == 12):\n            pre[(month,day)] = 8\n\n# see what the pre dictionary looks like\npre",
   "execution_count": null
  },
  {
   "cell_type": "code",
   "id": "3775908f-ca36-4846-8f38-5adca39217f2",
   "metadata": {
    "language": "python",
    "name": "cell1"
   },
   "source": "# Import python packages\nimport streamlit as st\nimport pandas as pd\n\n# We can also use Snowpark for our analyses!\nfrom snowflake.snowpark.context import get_active_session\nsession = get_active_session()\n",
   "execution_count": null,
   "outputs": []
  },
  {
   "cell_type": "code",
   "id": "8d50cbf4-0c8d-4950-86cb-114990437ac9",
   "metadata": {
    "language": "sql",
    "name": "cell2"
   },
   "source": "-- Welcome to Snowflake Notebooks!\n-- Try out a SQL cell to generate some data.\nSELECT 'FRIDAY' as SNOWDAY, 0.2 as CHANCE_OF_SNOW\nUNION ALL\nSELECT 'SATURDAY',0.5\nUNION ALL \nSELECT 'SUNDAY', 0.9;",
   "execution_count": null,
   "outputs": []
  },
  {
   "cell_type": "code",
   "id": "c695373e-ac74-4b62-a1f1-08206cbd5c81",
   "metadata": {
    "language": "python",
    "name": "cell3"
   },
   "source": "# Then, we can use the python name to turn cell2 into a Pandas dataframe\nmy_df = cell2.to_pandas()\n\n# Chart the data\nst.subheader(\"Chance of SNOW ❄️\")\nst.line_chart(my_df, x='SNOWDAY', y='CHANCE_OF_SNOW')\n\n# Give it a go!\nst.subheader(\"Try it out yourself and show off your skills 🥇\")",
   "execution_count": null,
   "outputs": []
  }
 ]
}